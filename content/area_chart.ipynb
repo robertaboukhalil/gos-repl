{
  "metadata": {
    "language_info": {
      "codemirror_mode": {
        "name": "python",
        "version": 3
      },
      "file_extension": ".py",
      "mimetype": "text/x-python",
      "name": "python",
      "nbconvert_exporter": "python",
      "pygments_lexer": "ipython3",
      "version": "3.8"
    },
    "kernelspec": {
      "name": "python",
      "display_name": "Pyolite",
      "language": "python"
    }
  },
  "nbformat_minor": 4,
  "nbformat": 4,
  "cells": [
    {
      "cell_type": "code",
      "source": "import micropip; await micropip.install(\"gosling\")",
      "metadata": {
        "trusted": true
      },
      "execution_count": 1,
      "outputs": []
    },
    {
      "cell_type": "code",
      "source": "import gosling as gos\n\ndata = gos.multivec(\n    url=\"https://resgen.io/api/v1/tileset_info/?d=UvVPeLHuRDiYA3qwFlm7xQ\",\n    row=\"sample\",\n    column=\"position\",\n    value=\"peak\",\n    categories=[\"sample 1\"],\n)\n\ndomain = gos.GenomicDomain(chromosome=\"1\", interval=[2000500, 3000500])\n\ntrack = gos.Track(data).mark_area().encode(\n    x=gos.X(\"position:G\", domain=domain, axis=\"bottom\"),\n    y=\"peak:Q\",\n    size=gos.value(2),\n).properties(width=725, height=180, layout=\"linear\")\n\ntrack.view(title=\"Basic Marks: Area\", subtitle=\"Tutorial Examples\")\n",
      "metadata": {
        "trusted": true
      },
      "execution_count": 2,
      "outputs": [
        {
          "execution_count": 2,
          "output_type": "execute_result",
          "data": {
            "text/html": "\n<!DOCTYPE html>\n<html>\n<head>\n  <style>.error { color: red; }</style>\n  <link rel=\"stylesheet\" href=\"https://unpkg.com/higlass@1.11/dist/hglib.css\">\n</head>\n<body>\n  <div id=\"jupyter-gosling-b85e9196c912442e90d26a382379d5e8\"></div>\n  <script type=\"module\">\n\n    async function loadScript(src) {\n        return new Promise(resolve => {\n            const script = document.createElement('script');\n            script.onload = resolve;\n            script.src = src;\n            script.async = false;\n            document.head.appendChild(script);\n        });\n    }\n\n    async function loadGosling() {\n        // Manually load scripts from window namespace since requirejs might not be\n        // available in all browser environments.\n\n        // https://github.com/DanielHreben/requirejs-toggle\n        if (!window.gosling) {\n\n            // https://github.com/DanielHreben/requirejs-toggle\n            window.__requirejsToggleBackup = {\n                define: window.define,\n                require: window.require,\n                requirejs: window.requirejs,\n            };\n\n            for (const field of Object.keys(window.__requirejsToggleBackup)) {\n                window[field] = undefined;\n            }\n\n            // load dependencies sequentially\n            const sources = [\n                \"https://unpkg.com/react@17/umd/react.production.min.js\",\n                \"https://unpkg.com/react-dom@17/umd/react-dom.production.min.js\",\n                \"https://unpkg.com/pixi.js@6/dist/browser/pixi.min.js\",\n                \"https://unpkg.com/higlass@1.11/dist/hglib.js\",\n                \"https://unpkg.com/gosling.js@0.9.16/dist/gosling.js\",\n            ];\n\n            for (const src of sources) await loadScript(src);\n\n            // restore requirejs after scripts have loaded\n            Object.assign(window, window.__requirejsToggleBackup);\n            delete window.__requirejsToggleBackup;\n\n        }\n\n        return window.gosling;\n    };\n\n    var el = document.getElementById('jupyter-gosling-b85e9196c912442e90d26a382379d5e8');\n    var spec = {\"tracks\": [{\"data\": {\"type\": \"multivec\", \"url\": \"https://resgen.io/api/v1/tileset_info/?d=UvVPeLHuRDiYA3qwFlm7xQ\", \"row\": \"sample\", \"column\": \"position\", \"value\": \"peak\", \"categories\": [\"sample 1\"]}, \"height\": 180, \"mark\": \"area\", \"width\": 725, \"layout\": \"linear\", \"size\": {\"value\": 2}, \"x\": {\"axis\": \"bottom\", \"domain\": {\"chromosome\": \"1\", \"interval\": [2000500, 3000500]}, \"field\": \"position\", \"type\": \"genomic\"}, \"y\": {\"field\": \"peak\", \"type\": \"quantitative\"}}], \"title\": \"Basic Marks: Area\", \"subtitle\": \"Tutorial Examples\"};\n    var opt = {\"padding\": 0, \"theme\": null};\n\n    loadGosling()\n        .then(gosling => gosling.embed(el, spec, opt))\n        .catch(err => {\n            el.innerHTML = `<div class=\"error\">\n    <p>JavaScript Error: ${error.message}</p>\n    <p>This usually means there's a typo in your Gosling specification. See the javascript console for the full traceback.</p>\n</div>`;\n            throw error;\n        });\n  </script>\n</body>\n</html>",
            "text/plain": "View({\n  subtitle: 'Tutorial Examples',\n  title: 'Basic Marks: Area',\n  tracks: [Track({\n    data: {'type': 'multivec', 'url': 'https://resgen.io/api/v1/tileset_info/?d=UvVPeLHuRDiYA3qwFlm7xQ', 'row': 'sample', 'column': 'position', 'value': 'peak', 'categories': ['sample 1']},\n    height: 180,\n    layout: 'linear',\n    mark: 'area',\n    size: SizeValue({\n      value: 2\n    }),\n    width: 725,\n    x: X({\n      axis: 'bottom',\n      domain: GenomicDomain({\n        chromosome: '1',\n        interval: [2000500, 3000500]\n      }),\n      field: 'position',\n      type: 'genomic'\n    }),\n    y: Y({\n      field: 'peak',\n      type: 'quantitative'\n    })\n  })]\n})"
          },
          "metadata": {}
        }
      ]
    },
    {
      "cell_type": "code",
      "source": "",
      "metadata": {},
      "execution_count": null,
      "outputs": []
    }
  ]
}
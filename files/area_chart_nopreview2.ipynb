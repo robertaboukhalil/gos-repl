{
  "metadata": {
    "language_info": {
      "codemirror_mode": {
        "name": "python",
        "version": 3
      },
      "file_extension": ".py",
      "mimetype": "text/x-python",
      "name": "python",
      "nbconvert_exporter": "python",
      "pygments_lexer": "ipython3",
      "version": "3.8"
    },
    "kernelspec": {
      "name": "python",
      "display_name": "Pyolite",
      "language": "python"
    }
  },
  "nbformat_minor": 4,
  "nbformat": 4,
  "cells": [
    {
      "cell_type": "code",
      "source": "# Install gosling (equivalent of pip install gosling)\nimport micropip\nawait micropip.install(\"gosling\")",
      "metadata": {},
      "execution_count": null,
      "outputs": []
    },
    {
      "cell_type": "code",
      "source": "# Create area chart\nimport gosling as gos\n\ndata = gos.multivec(\n    url=\"https://resgen.io/api/v1/tileset_info/?d=UvVPeLHuRDiYA3qwFlm7xQ\",\n    row=\"sample\",\n    column=\"position\",\n    value=\"peak\",\n    categories=[\"sample 1\"],\n)\n\ndomain = gos.GenomicDomain(chromosome=\"1\", interval=[2000500, 3000500])\n\ntrack = gos.Track(data).mark_area().encode(\n    x=gos.X(\"position:G\", domain=domain, axis=\"bottom\"),\n    y=\"peak:Q\",\n    size=gos.value(2),\n).properties(width=725, height=180, layout=\"linear\")\n\ntrack.view(title=\"Test\", subtitle=\"Tutorial Examples\")",
      "metadata": {},
      "execution_count": null,
      "outputs": []
    }
  ]
}
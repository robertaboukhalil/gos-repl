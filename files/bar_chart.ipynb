{
  "metadata": {
    "language_info": {
      "codemirror_mode": {
        "name": "python",
        "version": 3
      },
      "file_extension": ".py",
      "mimetype": "text/x-python",
      "name": "python",
      "nbconvert_exporter": "python",
      "pygments_lexer": "ipython3",
      "version": "3.8"
    },
    "kernelspec": {
      "name": "python",
      "display_name": "Pyolite",
      "language": "python"
    }
  },
  "nbformat_minor": 4,
  "nbformat": 4,
  "cells": [
    {
      "cell_type": "code",
      "source": "import micropip; await micropip.install(\"gosling\")",
      "metadata": {
        "trusted": true
      },
      "execution_count": 1,
      "outputs": []
    },
    {
      "cell_type": "code",
      "source": "import gosling as gos\n\ndata = gos.multivec(\n    url=\"https://server.gosling-lang.org/api/v1/tileset_info/?d=cistrome-multivec\",\n    row=\"sample\",\n    column=\"position\",\n    value=\"peak\",\n    categories=[\"sample 1\", \"sample 2\", \"sample 3\", \"sample 4\"],\n    binSize=5,\n)\n\nbase_track = gos.Track(data, width=800, height=100)\n\nheatmap = base_track.mark_rect().encode(\n    x=gos.X(\"start:G\", axis=\"top\"),\n    xe=\"end:G\",\n    row=gos.Row(\"sample:N\", legend=True),\n    color=gos.Color(\"peak:Q\", legend=True),\n)\n\nbars = base_track.mark_bar().encode(\n    x=gos.X(\"position:G\", axis=\"top\"),\n    y=\"peak:Q\",\n    row=\"sample:N\",\n    color=gos.Color(\"sample:N\", legend=True),\n)\n\nlines = base_track.mark_line().encode(\n    x=gos.X(\"position:G\", axis=\"top\"),\n    y=\"peak:Q\",\n    row=\"sample:N\",\n    color=gos.Color(\"sample:N\", legend=True),\n)\n\ngos.vertical(heatmap, bars, lines).properties(\n    title=\"Visual Encoding\",\n    subtitle=\"Gosling provides diverse visual encoding methods\",\n    layout=\"linear\",\n    centerRadius=0.8,\n    xDomain=gos.GenomicDomain(chromosome=\"1\", interval=[1, 3000500]),\n)\n",
      "metadata": {
        "trusted": true
      },
      "execution_count": 2,
      "outputs": [
        {
          "execution_count": 2,
          "output_type": "execute_result",
          "data": {
            "text/html": "\n<!DOCTYPE html>\n<html>\n<head>\n  <style>.error { color: red; }</style>\n  <link rel=\"stylesheet\" href=\"https://unpkg.com/higlass@1.11/dist/hglib.css\">\n</head>\n<body>\n  <div id=\"jupyter-gosling-a5b8709687fa4a3e976f6cf81f8a3561\"></div>\n  <script type=\"module\">\n\n    async function loadScript(src) {\n        return new Promise(resolve => {\n            const script = document.createElement('script');\n            script.onload = resolve;\n            script.src = src;\n            script.async = false;\n            document.head.appendChild(script);\n        });\n    }\n\n    async function loadGosling() {\n        // Manually load scripts from window namespace since requirejs might not be\n        // available in all browser environments.\n\n        // https://github.com/DanielHreben/requirejs-toggle\n        if (!window.gosling) {\n\n            // https://github.com/DanielHreben/requirejs-toggle\n            window.__requirejsToggleBackup = {\n                define: window.define,\n                require: window.require,\n                requirejs: window.requirejs,\n            };\n\n            for (const field of Object.keys(window.__requirejsToggleBackup)) {\n                window[field] = undefined;\n            }\n\n            // load dependencies sequentially\n            const sources = [\n                \"https://unpkg.com/react@17/umd/react.production.min.js\",\n                \"https://unpkg.com/react-dom@17/umd/react-dom.production.min.js\",\n                \"https://unpkg.com/pixi.js@6/dist/browser/pixi.min.js\",\n                \"https://unpkg.com/higlass@1.11/dist/hglib.js\",\n                \"https://unpkg.com/gosling.js@0.9.16/dist/gosling.js\",\n            ];\n\n            for (const src of sources) await loadScript(src);\n\n            // restore requirejs after scripts have loaded\n            Object.assign(window, window.__requirejsToggleBackup);\n            delete window.__requirejsToggleBackup;\n\n        }\n\n        return window.gosling;\n    };\n\n    var el = document.getElementById('jupyter-gosling-a5b8709687fa4a3e976f6cf81f8a3561');\n    var spec = {\"arrangement\": \"vertical\", \"views\": [{\"tracks\": [{\"data\": {\"type\": \"multivec\", \"url\": \"https://server.gosling-lang.org/api/v1/tileset_info/?d=cistrome-multivec\", \"row\": \"sample\", \"column\": \"position\", \"value\": \"peak\", \"categories\": [\"sample 1\", \"sample 2\", \"sample 3\", \"sample 4\"], \"binSize\": 5}, \"height\": 100, \"mark\": \"rect\", \"width\": 800, \"color\": {\"field\": \"peak\", \"legend\": true, \"type\": \"quantitative\"}, \"row\": {\"field\": \"sample\", \"legend\": true, \"type\": \"nominal\"}, \"x\": {\"axis\": \"top\", \"field\": \"start\", \"type\": \"genomic\"}, \"xe\": {\"field\": \"end\", \"type\": \"genomic\"}}]}, {\"tracks\": [{\"data\": {\"type\": \"multivec\", \"url\": \"https://server.gosling-lang.org/api/v1/tileset_info/?d=cistrome-multivec\", \"row\": \"sample\", \"column\": \"position\", \"value\": \"peak\", \"categories\": [\"sample 1\", \"sample 2\", \"sample 3\", \"sample 4\"], \"binSize\": 5}, \"height\": 100, \"mark\": \"bar\", \"width\": 800, \"color\": {\"field\": \"sample\", \"legend\": true, \"type\": \"nominal\"}, \"row\": {\"field\": \"sample\", \"type\": \"nominal\"}, \"x\": {\"axis\": \"top\", \"field\": \"position\", \"type\": \"genomic\"}, \"y\": {\"field\": \"peak\", \"type\": \"quantitative\"}}]}, {\"tracks\": [{\"data\": {\"type\": \"multivec\", \"url\": \"https://server.gosling-lang.org/api/v1/tileset_info/?d=cistrome-multivec\", \"row\": \"sample\", \"column\": \"position\", \"value\": \"peak\", \"categories\": [\"sample 1\", \"sample 2\", \"sample 3\", \"sample 4\"], \"binSize\": 5}, \"height\": 100, \"mark\": \"line\", \"width\": 800, \"color\": {\"field\": \"sample\", \"legend\": true, \"type\": \"nominal\"}, \"row\": {\"field\": \"sample\", \"type\": \"nominal\"}, \"x\": {\"axis\": \"top\", \"field\": \"position\", \"type\": \"genomic\"}, \"y\": {\"field\": \"peak\", \"type\": \"quantitative\"}}]}], \"title\": \"Visual Encoding\", \"subtitle\": \"Gosling provides diverse visual encoding methods\", \"layout\": \"linear\", \"centerRadius\": 0.8, \"xDomain\": {\"chromosome\": \"1\", \"interval\": [1, 3000500]}};\n    var opt = {\"padding\": 0, \"theme\": null};\n\n    loadGosling()\n        .then(gosling => gosling.embed(el, spec, opt))\n        .catch(err => {\n            el.innerHTML = `<div class=\"error\">\n    <p>JavaScript Error: ${error.message}</p>\n    <p>This usually means there's a typo in your Gosling specification. See the javascript console for the full traceback.</p>\n</div>`;\n            throw error;\n        });\n  </script>\n</body>\n</html>",
            "text/plain": "View({\n  arrangement: 'vertical',\n  centerRadius: 0.8,\n  layout: 'linear',\n  subtitle: 'Gosling provides diverse visual encoding methods',\n  title: 'Visual Encoding',\n  views: (View({\n    tracks: [Track({\n      color: Color({\n        field: 'peak',\n        legend: True,\n        type: 'quantitative'\n      }),\n      data: {'type': 'multivec', 'url': 'https://server.gosling-lang.org/api/v1/tileset_info/?d=cistrome-multivec', 'row': 'sample', 'column': 'position', 'value': 'peak', 'categories': ['sample 1', 'sample 2', 'sample 3', 'sample 4'], 'binSize': 5},\n      height: 100,\n      mark: 'rect',\n      row: Row({\n        field: 'sample',\n        legend: True,\n        type: 'nominal'\n      }),\n      width: 800,\n      x: X({\n        axis: 'top',\n        field: 'start',\n        type: 'genomic'\n      }),\n      xe: Xe({\n        field: 'end',\n        type: 'genomic'\n      })\n    })]\n  }), View({\n    tracks: [Track({\n      color: Color({\n        field: 'sample',\n        legend: True,\n        type: 'nominal'\n      }),\n      data: {'type': 'multivec', 'url': 'https://server.gosling-lang.org/api/v1/tileset_info/?d=cistrome-multivec', 'row': 'sample', 'column': 'position', 'value': 'peak', 'categories': ['sample 1', 'sample 2', 'sample 3', 'sample 4'], 'binSize': 5},\n      height: 100,\n      mark: 'bar',\n      row: Row({\n        field: 'sample',\n        type: 'nominal'\n      }),\n      width: 800,\n      x: X({\n        axis: 'top',\n        field: 'position',\n        type: 'genomic'\n      }),\n      y: Y({\n        field: 'peak',\n        type: 'quantitative'\n      })\n    })]\n  }), View({\n    tracks: [Track({\n      color: Color({\n        field: 'sample',\n        legend: True,\n        type: 'nominal'\n      }),\n      data: {'type': 'multivec', 'url': 'https://server.gosling-lang.org/api/v1/tileset_info/?d=cistrome-multivec', 'row': 'sample', 'column': 'position', 'value': 'peak', 'categories': ['sample 1', 'sample 2', 'sample 3', 'sample 4'], 'binSize': 5},\n      height: 100,\n      mark: 'line',\n      row: Row({\n        field: 'sample',\n        type: 'nominal'\n      }),\n      width: 800,\n      x: X({\n        axis: 'top',\n        field: 'position',\n        type: 'genomic'\n      }),\n      y: Y({\n        field: 'peak',\n        type: 'quantitative'\n      })\n    })]\n  })),\n  xDomain: GenomicDomain({\n    chromosome: '1',\n    interval: [1, 3000500]\n  })\n})"
          },
          "metadata": {}
        }
      ]
    },
    {
      "cell_type": "code",
      "source": "",
      "metadata": {},
      "execution_count": null,
      "outputs": []
    }
  ]
}
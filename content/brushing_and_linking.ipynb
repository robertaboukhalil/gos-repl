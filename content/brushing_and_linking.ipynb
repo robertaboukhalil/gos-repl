{
  "metadata": {
    "language_info": {
      "codemirror_mode": {
        "name": "python",
        "version": 3
      },
      "file_extension": ".py",
      "mimetype": "text/x-python",
      "name": "python",
      "nbconvert_exporter": "python",
      "pygments_lexer": "ipython3",
      "version": "3.8"
    },
    "kernelspec": {
      "name": "python",
      "display_name": "Pyolite",
      "language": "python"
    }
  },
  "nbformat_minor": 4,
  "nbformat": 4,
  "cells": [
    {
      "cell_type": "code",
      "source": "import micropip; await micropip.install(\"gosling\")",
      "metadata": {
        "trusted": true
      },
      "execution_count": 1,
      "outputs": []
    },
    {
      "cell_type": "code",
      "source": "import gosling as gos\n\ndata = gos.multivec(\n    url=\"https://resgen.io/api/v1/tileset_info/?d=UvVPeLHuRDiYA3qwFlm7xQ\",\n    row=\"sample\",\n    column=\"position\",\n    value=\"peak\",\n    categories=[\"sample 1\"],\n)\n\nbase = gos.Track(data).encode(y=\"peak:Q\").properties(width=800, height=200)\n\ntop =  gos.overlay(\n    base.mark_line().encode(\n        x=gos.X(\"position:G\", domain=gos.GenomicDomain(chromosome=\"1\"), axis=\"top\")\n    ),\n    base.mark_brush().encode(\n        x=gos.X(\n            \"position:G\",\n            domain=gos.GenomicDomain(chromosome=\"1\"),\n            axis=\"top\",\n            linkingId=\"linking-with-brush\"\n        ),\n        color=gos.value(\"steelBlue\")\n    ),\n)\n\nbottom = base.mark_line(background=\"steelBlue\", backgroundOpacity=0.1).encode(\n    x=gos.X(\n        \"position:G\",\n        domain=gos.GenomicDomain(chromosome=\"1\", interval=[200000000, 220000000]),\n        axis=\"top\",\n        linkingId=\"linking-with-brush\",\n    )\n)\n\ngos.stack(top, bottom)",
      "metadata": {
        "trusted": true
      },
      "execution_count": 2,
      "outputs": [
        {
          "execution_count": 2,
          "output_type": "execute_result",
          "data": {
            "text/html": "\n<!DOCTYPE html>\n<html>\n<head>\n  <style>.error { color: red; }</style>\n  <link rel=\"stylesheet\" href=\"https://unpkg.com/higlass@1.11/dist/hglib.css\">\n</head>\n<body>\n  <div id=\"jupyter-gosling-7461081be94c46ca989eff73abb22afe\"></div>\n  <script type=\"module\">\n\n    async function loadScript(src) {\n        return new Promise(resolve => {\n            const script = document.createElement('script');\n            script.onload = resolve;\n            script.src = src;\n            script.async = false;\n            document.head.appendChild(script);\n        });\n    }\n\n    async function loadGosling() {\n        // Manually load scripts from window namespace since requirejs might not be\n        // available in all browser environments.\n\n        // https://github.com/DanielHreben/requirejs-toggle\n        if (!window.gosling) {\n\n            // https://github.com/DanielHreben/requirejs-toggle\n            window.__requirejsToggleBackup = {\n                define: window.define,\n                require: window.require,\n                requirejs: window.requirejs,\n            };\n\n            for (const field of Object.keys(window.__requirejsToggleBackup)) {\n                window[field] = undefined;\n            }\n\n            // load dependencies sequentially\n            const sources = [\n                \"https://unpkg.com/react@17/umd/react.production.min.js\",\n                \"https://unpkg.com/react-dom@17/umd/react-dom.production.min.js\",\n                \"https://unpkg.com/pixi.js@6/dist/browser/pixi.min.js\",\n                \"https://unpkg.com/higlass@1.11/dist/hglib.js\",\n                \"https://unpkg.com/gosling.js@0.9.16/dist/gosling.js\",\n            ];\n\n            for (const src of sources) await loadScript(src);\n\n            // restore requirejs after scripts have loaded\n            Object.assign(window, window.__requirejsToggleBackup);\n            delete window.__requirejsToggleBackup;\n\n        }\n\n        return window.gosling;\n    };\n\n    var el = document.getElementById('jupyter-gosling-7461081be94c46ca989eff73abb22afe');\n    var spec = {\"alignment\": \"stack\", \"tracks\": [{\"alignment\": \"overlay\", \"tracks\": [{\"data\": {\"type\": \"multivec\", \"url\": \"https://resgen.io/api/v1/tileset_info/?d=UvVPeLHuRDiYA3qwFlm7xQ\", \"row\": \"sample\", \"column\": \"position\", \"value\": \"peak\", \"categories\": [\"sample 1\"]}, \"mark\": \"line\", \"x\": {\"axis\": \"top\", \"domain\": {\"chromosome\": \"1\"}, \"field\": \"position\", \"type\": \"genomic\"}, \"y\": {\"field\": \"peak\", \"type\": \"quantitative\"}}, {\"data\": {\"type\": \"multivec\", \"url\": \"https://resgen.io/api/v1/tileset_info/?d=UvVPeLHuRDiYA3qwFlm7xQ\", \"row\": \"sample\", \"column\": \"position\", \"value\": \"peak\", \"categories\": [\"sample 1\"]}, \"mark\": \"brush\", \"color\": {\"value\": \"steelBlue\"}, \"x\": {\"axis\": \"top\", \"domain\": {\"chromosome\": \"1\"}, \"field\": \"position\", \"linkingId\": \"linking-with-brush\", \"type\": \"genomic\"}, \"y\": {\"field\": \"peak\", \"type\": \"quantitative\"}}], \"width\": 800, \"height\": 200}, {\"data\": {\"type\": \"multivec\", \"url\": \"https://resgen.io/api/v1/tileset_info/?d=UvVPeLHuRDiYA3qwFlm7xQ\", \"row\": \"sample\", \"column\": \"position\", \"value\": \"peak\", \"categories\": [\"sample 1\"]}, \"height\": 200, \"mark\": \"line\", \"width\": 800, \"style\": {\"background\": \"steelBlue\", \"backgroundOpacity\": 0.1}, \"x\": {\"axis\": \"top\", \"domain\": {\"chromosome\": \"1\", \"interval\": [200000000, 220000000]}, \"field\": \"position\", \"linkingId\": \"linking-with-brush\", \"type\": \"genomic\"}, \"y\": {\"field\": \"peak\", \"type\": \"quantitative\"}}]};\n    var opt = {\"padding\": 0, \"theme\": null};\n\n    loadGosling()\n        .then(gosling => gosling.embed(el, spec, opt))\n        .catch(err => {\n            el.innerHTML = `<div class=\"error\">\n    <p>JavaScript Error: ${error.message}</p>\n    <p>This usually means there's a typo in your Gosling specification. See the javascript console for the full traceback.</p>\n</div>`;\n            throw error;\n        });\n  </script>\n</body>\n</html>",
            "text/plain": "View({\n  alignment: 'stack',\n  tracks: (View({\n    alignment: 'overlay',\n    height: 200,\n    tracks: (Track({\n      data: {'type': 'multivec', 'url': 'https://resgen.io/api/v1/tileset_info/?d=UvVPeLHuRDiYA3qwFlm7xQ', 'row': 'sample', 'column': 'position', 'value': 'peak', 'categories': ['sample 1']},\n      mark: 'line',\n      x: X({\n        axis: 'top',\n        domain: GenomicDomain({\n          chromosome: '1'\n        }),\n        field: 'position',\n        type: 'genomic'\n      }),\n      y: Y({\n        field: 'peak',\n        type: 'quantitative'\n      })\n    }), Track({\n      color: ColorValue({\n        value: 'steelBlue'\n      }),\n      data: {'type': 'multivec', 'url': 'https://resgen.io/api/v1/tileset_info/?d=UvVPeLHuRDiYA3qwFlm7xQ', 'row': 'sample', 'column': 'position', 'value': 'peak', 'categories': ['sample 1']},\n      mark: 'brush',\n      x: X({\n        axis: 'top',\n        domain: GenomicDomain({\n          chromosome: '1'\n        }),\n        field: 'position',\n        linkingId: 'linking-with-brush',\n        type: 'genomic'\n      }),\n      y: Y({\n        field: 'peak',\n        type: 'quantitative'\n      })\n    })),\n    width: 800\n  }), Track({\n    data: {'type': 'multivec', 'url': 'https://resgen.io/api/v1/tileset_info/?d=UvVPeLHuRDiYA3qwFlm7xQ', 'row': 'sample', 'column': 'position', 'value': 'peak', 'categories': ['sample 1']},\n    height: 200,\n    mark: 'line',\n    style: Style({\n      background: 'steelBlue',\n      backgroundOpacity: 0.1\n    }),\n    width: 800,\n    x: X({\n      axis: 'top',\n      domain: GenomicDomain({\n        chromosome: '1',\n        interval: [200000000, 220000000]\n      }),\n      field: 'position',\n      linkingId: 'linking-with-brush',\n      type: 'genomic'\n    }),\n    y: Y({\n      field: 'peak',\n      type: 'quantitative'\n    })\n  }))\n})"
          },
          "metadata": {}
        }
      ]
    },
    {
      "cell_type": "code",
      "source": "",
      "metadata": {},
      "execution_count": null,
      "outputs": []
    }
  ]
}